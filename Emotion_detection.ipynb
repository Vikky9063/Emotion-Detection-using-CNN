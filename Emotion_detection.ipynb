{
 "cells": [
  {
   "cell_type": "code",
   "execution_count": 1,
   "id": "3f4a6bda",
   "metadata": {},
   "outputs": [
    {
     "name": "stdout",
     "output_type": "stream",
     "text": [
      "WARNING:tensorflow:From C:\\Users\\kisha\\anaconda3\\Lib\\site-packages\\keras\\src\\losses.py:2976: The name tf.losses.sparse_softmax_cross_entropy is deprecated. Please use tf.compat.v1.losses.sparse_softmax_cross_entropy instead.\n",
      "\n"
     ]
    }
   ],
   "source": [
    "import numpy as np \n",
    "import tensorflow as tf \n",
    "from tensorflow import keras \n",
    "from sklearn.metrics import accuracy_score\n",
    "import cv2\n",
    "import os"
   ]
  },
  {
   "cell_type": "code",
   "execution_count": 2,
   "id": "a78f38a2",
   "metadata": {},
   "outputs": [],
   "source": [
    "def load_images_from_folder(folder):\n",
    "    images = []\n",
    "    for filename in os.listdir(folder):\n",
    "        img = cv2.imread(os.path.join(folder, filename))\n",
    "        if img is not None:\n",
    "            img = cv2.resize(img, (64, 64))  # Resize images to the desired dimensions\n",
    "            images.append(img)\n",
    "    return images"
   ]
  },
  {
   "cell_type": "code",
   "execution_count": 3,
   "id": "e0d6c21a",
   "metadata": {},
   "outputs": [],
   "source": [
    "# Load training images and labels for each emotion\n",
    "train_images_happy = load_images_from_folder(r\"C:\\Users\\kisha\\Downloads\\Training_emotion\\train\\happy\")\n",
    "train_labels_happy = [0] * len(train_images_happy)\n",
    "\n",
    "train_images_fear = load_images_from_folder(r\"C:\\Users\\kisha\\Downloads\\Training_emotion\\train\\fearful\") \n",
    "train_labels_fear = [1] * len(train_images_fear)\n",
    "\n",
    "train_images_angry = load_images_from_folder(r\"C:\\Users\\kisha\\Downloads\\Training_emotion\\train\\angry\")\n",
    "train_labels_angry = [2] * len(train_images_angry)\n",
    "\n",
    "# Concatenate images and labels\n",
    "train_images = np.concatenate([train_images_happy, train_images_fear, train_images_angry]) \n",
    "train_labels = np.concatenate([train_labels_happy, train_labels_fear, train_labels_angry])\n",
    "\n",
    "# Shuffle training data\n",
    "random_indices = np.random.permutation(len(train_images))\n",
    "train_images = train_images[random_indices]\n",
    "train_labels = train_labels[random_indices]"
   ]
  },
  {
   "cell_type": "code",
   "execution_count": 4,
   "id": "9909d02c",
   "metadata": {},
   "outputs": [],
   "source": [
    "train_images = train_images.astype('float32') / 255.0"
   ]
  },
  {
   "cell_type": "code",
   "execution_count": 5,
   "id": "47ee003d",
   "metadata": {},
   "outputs": [
    {
     "name": "stdout",
     "output_type": "stream",
     "text": [
      "WARNING:tensorflow:From C:\\Users\\kisha\\anaconda3\\Lib\\site-packages\\keras\\src\\backend.py:873: The name tf.get_default_graph is deprecated. Please use tf.compat.v1.get_default_graph instead.\n",
      "\n",
      "WARNING:tensorflow:From C:\\Users\\kisha\\anaconda3\\Lib\\site-packages\\keras\\src\\layers\\pooling\\max_pooling2d.py:161: The name tf.nn.max_pool is deprecated. Please use tf.nn.max_pool2d instead.\n",
      "\n",
      "WARNING:tensorflow:From C:\\Users\\kisha\\anaconda3\\Lib\\site-packages\\keras\\src\\optimizers\\__init__.py:309: The name tf.train.Optimizer is deprecated. Please use tf.compat.v1.train.Optimizer instead.\n",
      "\n"
     ]
    }
   ],
   "source": [
    "\n",
    "# Define and compile the model\n",
    "model = keras.Sequential([\n",
    "    keras.layers.Conv2D(64, (3, 3), activation='relu', input_shape=(64, 64, 3)),\n",
    "    keras.layers.MaxPooling2D((2, 2)),\n",
    "    keras.layers.Conv2D(128, (3, 3), activation='relu'),\n",
    "    keras.layers.MaxPooling2D((2, 2)),\n",
    "    keras.layers.Conv2D(128, (3, 3), activation='relu'),\n",
    "    keras.layers.Flatten(),\n",
    "     keras.layers.Dropout(0.5),  # Dropout layer for regularization\n",
    "    keras.layers.Dense(128, activation='relu'),\n",
    "    keras.layers.Dense(3, activation='softmax')  \n",
    "     # 3 classes: happy, fearful, angry\n",
    "])\n",
    "\n",
    "model.compile(optimizer='adam', loss='sparse_categorical_crossentropy', metrics=['accuracy'])\n"
   ]
  },
  {
   "cell_type": "code",
   "execution_count": 6,
   "id": "d36e1aa9",
   "metadata": {},
   "outputs": [
    {
     "name": "stdout",
     "output_type": "stream",
     "text": [
      "Epoch 1/15\n",
      "WARNING:tensorflow:From C:\\Users\\kisha\\anaconda3\\Lib\\site-packages\\keras\\src\\utils\\tf_utils.py:492: The name tf.ragged.RaggedTensorValue is deprecated. Please use tf.compat.v1.ragged.RaggedTensorValue instead.\n",
      "\n",
      "WARNING:tensorflow:From C:\\Users\\kisha\\anaconda3\\Lib\\site-packages\\keras\\src\\engine\\base_layer_utils.py:384: The name tf.executing_eagerly_outside_functions is deprecated. Please use tf.compat.v1.executing_eagerly_outside_functions instead.\n",
      "\n",
      "451/451 [==============================] - 45s 97ms/step - loss: 1.0216 - accuracy: 0.4879\n",
      "Epoch 2/15\n",
      "451/451 [==============================] - 42s 93ms/step - loss: 0.8721 - accuracy: 0.5857\n",
      "Epoch 3/15\n",
      "451/451 [==============================] - 42s 93ms/step - loss: 0.7881 - accuracy: 0.6345\n",
      "Epoch 4/15\n",
      "451/451 [==============================] - 43s 95ms/step - loss: 0.7209 - accuracy: 0.6766\n",
      "Epoch 5/15\n",
      "451/451 [==============================] - 43s 95ms/step - loss: 0.6739 - accuracy: 0.6961\n",
      "Epoch 6/15\n",
      "451/451 [==============================] - 43s 94ms/step - loss: 0.6315 - accuracy: 0.7207\n",
      "Epoch 7/15\n",
      "451/451 [==============================] - 43s 96ms/step - loss: 0.5922 - accuracy: 0.7393\n",
      "Epoch 8/15\n",
      "451/451 [==============================] - 43s 95ms/step - loss: 0.5463 - accuracy: 0.7643\n",
      "Epoch 9/15\n",
      "451/451 [==============================] - 43s 95ms/step - loss: 0.4925 - accuracy: 0.7928\n",
      "Epoch 10/15\n",
      "451/451 [==============================] - 43s 95ms/step - loss: 0.4539 - accuracy: 0.8111\n",
      "Epoch 11/15\n",
      "451/451 [==============================] - 43s 96ms/step - loss: 0.4099 - accuracy: 0.8334\n",
      "Epoch 12/15\n",
      "451/451 [==============================] - 43s 96ms/step - loss: 0.3663 - accuracy: 0.8480\n",
      "Epoch 13/15\n",
      "451/451 [==============================] - 45s 100ms/step - loss: 0.3346 - accuracy: 0.8660\n",
      "Epoch 14/15\n",
      "451/451 [==============================] - 45s 101ms/step - loss: 0.2990 - accuracy: 0.8797\n",
      "Epoch 15/15\n",
      "451/451 [==============================] - 45s 99ms/step - loss: 0.2636 - accuracy: 0.8958\n",
      "118/118 [==============================] - 4s 31ms/step - loss: 0.7102 - accuracy: 0.7394\n",
      "Test Loss: 0.7102134227752686\n",
      "Test Accuracy: 0.7393503785133362\n"
     ]
    }
   ],
   "source": [
    "# Train the model\n",
    "model.fit(train_images, train_labels, epochs=15, batch_size=32)\n",
    "\n",
    "# Load and preprocess test images\n",
    "test_images_happy = load_images_from_folder(r\"C:\\Users\\kisha\\Downloads\\Testing_emotion\\happy\")\n",
    "test_labels_happy = [0] * len(test_images_happy)\n",
    "\n",
    "test_images_fear = load_images_from_folder(r\"C:\\Users\\kisha\\Downloads\\Testing_emotion\\fearful\") \n",
    "test_labels_fear = [1] * len(test_images_fear)\n",
    "\n",
    "test_images_angry = load_images_from_folder(r\"C:\\Users\\kisha\\Downloads\\Testing_emotion\\angry\") \n",
    "test_labels_angry = [2] * len(test_images_angry)\n",
    "\n",
    "test_images = np.concatenate([test_images_happy, test_images_fear, test_images_angry]) \n",
    "test_labels = np.concatenate([test_labels_happy, test_labels_fear, test_labels_angry])\n",
    "\n",
    "test_images = test_images.astype('float32') / 255.0\n",
    "\n",
    "# Evaluate the model on the test data\n",
    "test_loss, test_accuracy = model.evaluate(test_images, test_labels)\n",
    "print(\"Test Loss:\", test_loss)\n",
    "print(\"Test Accuracy:\", test_accuracy)\n"
   ]
  },
  {
   "cell_type": "code",
   "execution_count": 8,
   "id": "e8d239cc",
   "metadata": {},
   "outputs": [
    {
     "name": "stdout",
     "output_type": "stream",
     "text": [
      "1/1 [==============================] - 0s 23ms/step\n",
      "Predicted Emotion: happy\n"
     ]
    },
    {
     "data": {
      "image/png": "[encoded data removed]",
      "text/plain": [
       "<Figure size 640x480 with 1 Axes>"
      ]
     },
     "metadata": {},
     "output_type": "display_data"
    }
   ],
   "source": [
    "\n",
    "import matplotlib.pyplot as plt\n",
    "image_path = r'C:\\Users\\kisha\\Downloads\\Testing_emotion\\happy\\im997.png'\n",
    "input_image = cv2.imread(image_path)\n",
    "resized_image = cv2.resize(input_image, (64, 64))\n",
    "input_image_resized=np.array([resized_image])\n",
    "predictions = model.predict(input_image_resized)\n",
    "predicted_class = np.argmax(predictions)\n",
    "emotions_map = {0: \"happy\", 1: \"fear\", 2: \"angry\"}\n",
    "predicted_emotion = emotions_map[predicted_class] \n",
    "plt.imshow(input_image)\n",
    "print(\"Predicted Emotion:\", predicted_emotion)"
   ]
  }
 ],
 "metadata": {
  "kernelspec": {
   "display_name": "Python 3 (ipykernel)",
   "language": "python",
   "name": "python3"
  },
  "language_info": {
   "codemirror_mode": {
    "name": "ipython",
    "version": 3
   },
   "file_extension": ".py",
   "mimetype": "text/x-python",
   "name": "python",
   "nbconvert_exporter": "python",
   "pygments_lexer": "ipython3",
   "version": "3.11.5"
  }
 },
 "nbformat": 4,
 "nbformat_minor": 5
}
